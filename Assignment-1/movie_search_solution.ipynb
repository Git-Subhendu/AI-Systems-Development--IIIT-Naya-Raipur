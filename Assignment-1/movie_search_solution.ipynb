{
 "cells": [
  {
   "cell_type": "markdown",
   "id": "15f2ea51",
   "metadata": {},
   "source": [
    "# movie_search_solution.ipynb"
   ]
  },
  {
   "cell_type": "markdown",
   "id": "ab8fa870",
   "metadata": {},
   "source": [
    "# Section 1: Install & Import Libraries "
   ]
  },
  {
   "cell_type": "code",
   "execution_count": 7,
   "id": "989c258d",
   "metadata": {},
   "outputs": [],
   "source": [
    "import pandas as pd\n",
    "from sentence_transformers import SentenceTransformer\n",
    "from sklearn.metrics.pairwise import cosine_similarity\n"
   ]
  },
  {
   "cell_type": "markdown",
   "id": "7a8a03d1",
   "metadata": {},
   "source": [
    "# Section 2: Load Dataset "
   ]
  },
  {
   "cell_type": "code",
   "execution_count": 8,
   "id": "ee76b27e",
   "metadata": {},
   "outputs": [
    {
     "name": "stdout",
     "output_type": "stream",
     "text": [
      "              title                                               plot\n",
      "0         Spy Movie  A spy navigates intrigue in Paris to stop a te...\n",
      "1  Romance in Paris  A couple falls in love in Paris under romantic...\n",
      "2      Action Flick  A high-octane chase through New York with expl...\n"
     ]
    }
   ],
   "source": [
    "df = pd.read_csv(\"movies.csv\")\n",
    "print(df.head())"
   ]
  },
  {
   "cell_type": "markdown",
   "id": "1801218a",
   "metadata": {},
   "source": [
    "# Section 3: Load Embedding Model "
   ]
  },
  {
   "cell_type": "code",
   "execution_count": 9,
   "id": "aee85802",
   "metadata": {},
   "outputs": [
    {
     "data": {
      "application/vnd.jupyter.widget-view+json": {
       "model_id": "f4d90fa70ccf451d82afe523c8b9f04b",
       "version_major": 2,
       "version_minor": 0
      },
      "text/plain": [
       "modules.json:   0%|          | 0.00/349 [00:00<?, ?B/s]"
      ]
     },
     "metadata": {},
     "output_type": "display_data"
    },
    {
     "name": "stderr",
     "output_type": "stream",
     "text": [
      "c:\\Users\\subhe\\AppData\\Local\\Programs\\Python\\Python311\\Lib\\site-packages\\huggingface_hub\\file_download.py:143: UserWarning: `huggingface_hub` cache-system uses symlinks by default to efficiently store duplicated files but your machine does not support them in C:\\Users\\subhe\\.cache\\huggingface\\hub\\models--sentence-transformers--all-MiniLM-L6-v2. Caching files will still work but in a degraded version that might require more space on your disk. This warning can be disabled by setting the `HF_HUB_DISABLE_SYMLINKS_WARNING` environment variable. For more details, see https://huggingface.co/docs/huggingface_hub/how-to-cache#limitations.\n",
      "To support symlinks on Windows, you either need to activate Developer Mode or to run Python as an administrator. In order to activate developer mode, see this article: https://docs.microsoft.com/en-us/windows/apps/get-started/enable-your-device-for-development\n",
      "  warnings.warn(message)\n"
     ]
    },
    {
     "data": {
      "application/vnd.jupyter.widget-view+json": {
       "model_id": "808880ae42bf412dbef81c903d5b8ed3",
       "version_major": 2,
       "version_minor": 0
      },
      "text/plain": [
       "config_sentence_transformers.json:   0%|          | 0.00/116 [00:00<?, ?B/s]"
      ]
     },
     "metadata": {},
     "output_type": "display_data"
    },
    {
     "data": {
      "application/vnd.jupyter.widget-view+json": {
       "model_id": "25087659173947d39e665793b726c1a8",
       "version_major": 2,
       "version_minor": 0
      },
      "text/plain": [
       "README.md: 0.00B [00:00, ?B/s]"
      ]
     },
     "metadata": {},
     "output_type": "display_data"
    },
    {
     "data": {
      "application/vnd.jupyter.widget-view+json": {
       "model_id": "77598b7615774e419519c47f0fd3de3d",
       "version_major": 2,
       "version_minor": 0
      },
      "text/plain": [
       "sentence_bert_config.json:   0%|          | 0.00/53.0 [00:00<?, ?B/s]"
      ]
     },
     "metadata": {},
     "output_type": "display_data"
    },
    {
     "data": {
      "application/vnd.jupyter.widget-view+json": {
       "model_id": "dc9ce8a46d7444ecb45a316b9e5ebf63",
       "version_major": 2,
       "version_minor": 0
      },
      "text/plain": [
       "config.json:   0%|          | 0.00/612 [00:00<?, ?B/s]"
      ]
     },
     "metadata": {},
     "output_type": "display_data"
    },
    {
     "name": "stderr",
     "output_type": "stream",
     "text": [
      "Xet Storage is enabled for this repo, but the 'hf_xet' package is not installed. Falling back to regular HTTP download. For better performance, install the package with: `pip install huggingface_hub[hf_xet]` or `pip install hf_xet`\n"
     ]
    },
    {
     "data": {
      "application/vnd.jupyter.widget-view+json": {
       "model_id": "bf9ec8be86ce4f93be5ac24edbc81c2a",
       "version_major": 2,
       "version_minor": 0
      },
      "text/plain": [
       "model.safetensors:   0%|          | 0.00/90.9M [00:00<?, ?B/s]"
      ]
     },
     "metadata": {},
     "output_type": "display_data"
    },
    {
     "data": {
      "application/vnd.jupyter.widget-view+json": {
       "model_id": "24bbeaf7b8b34a4c9a5066b4f3ec966f",
       "version_major": 2,
       "version_minor": 0
      },
      "text/plain": [
       "tokenizer_config.json:   0%|          | 0.00/350 [00:00<?, ?B/s]"
      ]
     },
     "metadata": {},
     "output_type": "display_data"
    },
    {
     "data": {
      "application/vnd.jupyter.widget-view+json": {
       "model_id": "cd413de5267140529ba4ef9fd05e3ffd",
       "version_major": 2,
       "version_minor": 0
      },
      "text/plain": [
       "vocab.txt: 0.00B [00:00, ?B/s]"
      ]
     },
     "metadata": {},
     "output_type": "display_data"
    },
    {
     "data": {
      "application/vnd.jupyter.widget-view+json": {
       "model_id": "0f955d0c053648479400eb16b73d785f",
       "version_major": 2,
       "version_minor": 0
      },
      "text/plain": [
       "tokenizer.json: 0.00B [00:00, ?B/s]"
      ]
     },
     "metadata": {},
     "output_type": "display_data"
    },
    {
     "data": {
      "application/vnd.jupyter.widget-view+json": {
       "model_id": "a25869a484f347c488e8fdd10cd33446",
       "version_major": 2,
       "version_minor": 0
      },
      "text/plain": [
       "special_tokens_map.json:   0%|          | 0.00/112 [00:00<?, ?B/s]"
      ]
     },
     "metadata": {},
     "output_type": "display_data"
    },
    {
     "data": {
      "application/vnd.jupyter.widget-view+json": {
       "model_id": "e476a14487984e11a97c6a773ab6febd",
       "version_major": 2,
       "version_minor": 0
      },
      "text/plain": [
       "config.json:   0%|          | 0.00/190 [00:00<?, ?B/s]"
      ]
     },
     "metadata": {},
     "output_type": "display_data"
    }
   ],
   "source": [
    "model = SentenceTransformer(\"all-MiniLM-L6-v2\")\n"
   ]
  },
  {
   "cell_type": "markdown",
   "id": "625a5081",
   "metadata": {},
   "source": [
    "# Section 4: Encode Plots "
   ]
  },
  {
   "cell_type": "code",
   "execution_count": 10,
   "id": "461fd33a",
   "metadata": {},
   "outputs": [],
   "source": [
    "# Convert each plot into embeddings\n",
    "df[\"embeddings\"] = df[\"plot\"].apply(lambda x: model.encode(x))\n"
   ]
  },
  {
   "cell_type": "markdown",
   "id": "c8ac562e",
   "metadata": {},
   "source": [
    "# Section 5: Define Search Function"
   ]
  },
  {
   "cell_type": "code",
   "execution_count": 11,
   "id": "2714ce3b",
   "metadata": {},
   "outputs": [],
   "source": [
    "\n",
    "def search_movies(query, top_n=5):\n",
    "    \"\"\"\n",
    "    Given a search query, return the top_n most relevant movies\n",
    "    based on cosine similarity of embeddings.\n",
    "    \"\"\"\n",
    "    query_embedding = model.encode(query)\n",
    "    similarities = cosine_similarity([query_embedding], list(df[\"embeddings\"]))[0]\n",
    "    df[\"similarity\"] = similarities\n",
    "    results = df.sort_values(\"similarity\", ascending=False).head(top_n)\n",
    "    return results[[\"title\", \"plot\", \"similarity\"]]\n"
   ]
  },
  {
   "cell_type": "markdown",
   "id": "6d2ea473",
   "metadata": {},
   "source": [
    "# Section 6: Test Example Query "
   ]
  },
  {
   "cell_type": "code",
   "execution_count": 12,
   "id": "7a2f9ad1",
   "metadata": {},
   "outputs": [
    {
     "name": "stdout",
     "output_type": "stream",
     "text": [
      "              title                                               plot  \\\n",
      "0         Spy Movie  A spy navigates intrigue in Paris to stop a te...   \n",
      "1  Romance in Paris  A couple falls in love in Paris under romantic...   \n",
      "2      Action Flick  A high-octane chase through New York with expl...   \n",
      "\n",
      "   similarity  \n",
      "0    0.769684  \n",
      "1    0.388030  \n",
      "2    0.256777  \n"
     ]
    }
   ],
   "source": [
    "print(search_movies(\"spy thriller in Paris\", top_n=5))"
   ]
  }
 ],
 "metadata": {
  "kernelspec": {
   "display_name": "Python 3",
   "language": "python",
   "name": "python3"
  },
  "language_info": {
   "codemirror_mode": {
    "name": "ipython",
    "version": 3
   },
   "file_extension": ".py",
   "mimetype": "text/x-python",
   "name": "python",
   "nbconvert_exporter": "python",
   "pygments_lexer": "ipython3",
   "version": "3.11.0"
  }
 },
 "nbformat": 4,
 "nbformat_minor": 5
}
